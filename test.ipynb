{
 "cells": [
  {
   "cell_type": "code",
   "execution_count": null,
   "metadata": {},
   "outputs": [],
   "source": [
    "import numpy as np\n",
    "import matplotlib.pyplot as plt\n",
    "import finufft\n",
    "import numpy.fft as fft\n",
    "from scipy import integrate\n",
    "import math\n",
    "import torch"
   ]
  },
  {
   "cell_type": "code",
   "execution_count": null,
   "metadata": {},
   "outputs": [],
   "source": [
    "# parameters\n",
    "n = 100  # number of source points\n",
    "r = int(0.8/1.024 * n) // 2  # radius of aperture\n",
    "pad = 2\n",
    "N = n * pad\n",
    "\n",
    "pitch = 1e-6\n",
    "z = 0.005 # 1/(1/25e-3 - 1/1.7) # \n",
    "l = N * pitch\n",
    "\n",
    "lam = 500e-9\n",
    "k = 2 * np.pi / lam\n",
    "\n",
    "theta = 5  # incident angle\n",
    "zo = 1.7  # point source distance\n",
    "x0, y0 = -np.tan(theta / 180 * np.pi) * zo, 0  # object offset\n",
    "s0, t0 = np.tan(theta / 180 * np.pi) * z, 0  # image offset\n",
    "\n",
    "f = 25e-3   # focal\n",
    "\n",
    "# the source points\n",
    "x = np.linspace(-l / 2, l / 2, N)\n",
    "y = np.linspace(-l / 2, l / 2, N)\n",
    "xx, yy = np.meshgrid(x, y, indexing='ij')"
   ]
  },
  {
   "cell_type": "code",
   "execution_count": null,
   "metadata": {},
   "outputs": [],
   "source": [
    "def get_exact_spherical_wave_np(src_point, dest_plane, distance):\n",
    "    ''' \n",
    "    Get the phase shift of the spherical wave from a single point source \n",
    "    \n",
    "    :param src: tuple (x,y), spatial coordinate of the source\n",
    "    :param dest: tensor [uu,vv], coordinate grid at the destination\n",
    "    :param distance: scalar tensor, travel distance\n",
    "    :return: (DxCxUxV) amplitude and phase of the spherical wave\n",
    "    '''\n",
    "\n",
    "    x = src_point[0]\n",
    "    y = src_point[1]\n",
    "    radius = np.sqrt(distance**2 + (dest_plane[0]-x)**2 + (dest_plane[1]-y)**2)\n",
    "    phase = k * (radius - distance)\n",
    "\n",
    "    # normalize the total energy of input light to 1\n",
    "    amplitude = pupil * distance / lam / radius**2\n",
    "    amplitude /= np.sqrt(np.sum(amplitude**2, axis=(-2,-1), keepdims=True))\n",
    "    return amplitude * np.exp(1j * phase)\n",
    "\n",
    "\n",
    "def get_plane_wave(src_point, dest_plane, distance):\n",
    "    x = src_point[0]\n",
    "    y = src_point[1]\n",
    "    vec = np.array([-x, -y, distance])\n",
    "    kx, ky, kz = vec / np.sqrt(np.dot(vec, vec))\n",
    "\n",
    "    # radius = np.sqrt((distance**2 + dest_plane[0]-x)**2 + (dest_plane[1]-y)**2)\n",
    "    phase = k * (kx * dest_plane[0] + ky * dest_plane[1] + kz)\n",
    "\n",
    "    # normalize the total energy of input light to 1\n",
    "    amplitude = pupil * np.ones_like(phase)\n",
    "    amplitude /= np.sqrt(np.sum(amplitude**2, axis=(-2,-1), keepdims=True))\n",
    "    return amplitude * np.exp(1j * phase)\n",
    "\n",
    "\n",
    "def get_lens_phase_shift(f, ap_coords):\n",
    "    phase = k/2 * (-1/f) * (ap_coords[0]**2 + ap_coords[1]**2)\n",
    "    return np.exp(1j * phase)"
   ]
  },
  {
   "cell_type": "code",
   "execution_count": null,
   "metadata": {},
   "outputs": [],
   "source": [
    "# create input field\n",
    "# the aperture\n",
    "c = np.linspace(-N//2, N//2, N)\n",
    "uu, vv = np.meshgrid(c, c, indexing='ij')\n",
    "pupil = np.where(uu**2+vv**2<=r**2, 1, 0)\n",
    "\n",
    "# E1 = pupil * get_plane_wave((xo, yo), np.stack((xx, yy), axis=0), zo)\n",
    "E1 = pupil * get_exact_spherical_wave_np((x0, y0), np.stack((xx, yy), axis=0), zo) * get_lens_phase_shift(f, np.stack((xx, yy), axis=0))\n",
    "# plt.figure(figsize=(2,2))\n",
    "# E1 = get_exact_spherical_wave_np((xo, yo), np.stack((xx, yy), axis=0), zo)\n",
    "# plt.imshow(np.abs(E1), cmap='gray')"
   ]
  },
  {
   "cell_type": "markdown",
   "metadata": {},
   "source": [
    "## RS"
   ]
  },
  {
   "cell_type": "markdown",
   "metadata": {},
   "source": [
    "## Baseline (Shift-BEASM)"
   ]
  },
  {
   "cell_type": "code",
   "execution_count": null,
   "metadata": {},
   "outputs": [],
   "source": [
    "# from shift_BEASM_cpu import BEASM2d\n",
    "# prop = BEASM2d(z, x, y, lam, 'cpu')\n",
    "# U = prop(E1)\n",
    "# plt.imshow(abs(U), cmap='gray')\n",
    "\n",
    "from shift_BEASM_cpu import shift_BEASM2d\n",
    "prop = shift_BEASM2d(s0, t0, z, x, y, lam)\n",
    "U1 = prop(E1)\n",
    "plt.figure(figsize=(10,10))\n",
    "plt.tight_layout()\n",
    "plt.title(fr'BEASM: r={r*pitch:.2e}, z={z:.1e}, $\\theta$={theta}$^\\circ$, zo={zo}')\n",
    "plt.imshow(np.abs(U1), cmap='gray')"
   ]
  },
  {
   "cell_type": "code",
   "execution_count": null,
   "metadata": {},
   "outputs": [],
   "source": [
    "result1 = np.abs(U1)[..., N//2-r:N//2+r, N//2-r:N//2+r]\n",
    "plt.imshow(result1, cmap='gray')"
   ]
  },
  {
   "cell_type": "markdown",
   "metadata": {},
   "source": [
    "## Ours (SVASM)"
   ]
  },
  {
   "cell_type": "code",
   "execution_count": null,
   "metadata": {},
   "outputs": [],
   "source": [
    "from svASM import AngularSpectrumMethodMM\n",
    "device = 'cpu' #'cuda:3' # \n",
    "prop = AngularSpectrumMethodMM((x0, y0, zo), z, x, y, x, y, lam, device, (s0, t0))\n",
    "U2 = prop(E1)\n",
    "plt.imshow(np.abs(U2)[0], cmap='gray')"
   ]
  },
  {
   "cell_type": "code",
   "execution_count": null,
   "metadata": {},
   "outputs": [],
   "source": [
    "result2 = np.abs(U2)[..., N//2-r:N//2+r, N//2-r:N//2+r]\n",
    "plt.imshow(result2[0], cmap='gray')"
   ]
  },
  {
   "cell_type": "markdown",
   "metadata": {},
   "source": [
    "## RS (FFT)"
   ]
  },
  {
   "cell_type": "code",
   "execution_count": null,
   "metadata": {},
   "outputs": [],
   "source": [
    "from diffractio.scalar_sources_XY import Scalar_source_XY\n",
    "from diffractio.scalar_masks_XY import Scalar_mask_XY\n",
    "u0 = Scalar_source_XY(x, y, lam)\n",
    "u0.spherical_wave((xo, yo), zo)\n",
    "t = Scalar_mask_XY(x, y, lam)\n",
    "t.lens(r0=(0,0), focal=f, radius=r*pitch)\n",
    "u1 = u0 * t\n",
    "u2 = u1.RS(z=z, new_field=True, amplification=(2,2))\n",
    "plt.imshow(abs(u2.u), cmap='gray')"
   ]
  },
  {
   "cell_type": "code",
   "execution_count": null,
   "metadata": {},
   "outputs": [],
   "source": [
    "offxs, offys = int(xs / pitch), int(ys / pitch)\n",
    "result0 = abs(u2.u)[N//2-offys-r:N//2-offys+r, N//2-offxs-r:N//2-offxs+r]\n",
    "plt.imshow(result0, cmap='gray')"
   ]
  },
  {
   "cell_type": "markdown",
   "metadata": {},
   "source": [
    "# Test functions in 1D"
   ]
  },
  {
   "cell_type": "markdown",
   "metadata": {},
   "source": [
    "## analytical integral "
   ]
  },
  {
   "cell_type": "code",
   "execution_count": null,
   "metadata": {},
   "outputs": [],
   "source": [
    "j = 0\n",
    "fun = lambda xn : 1/2/np.pi * z/np.sqrt((X[j]-xn)**2+z**2) * (1./np.sqrt((X[j]-xn)**2+z**2)-1j*k) * np.exp(1j*k*np.sqrt((X[j]-xn)**2+z**2)) / np.sqrt((X[j]-xn)**2+z**2)\n",
    "fun(0)"
   ]
  },
  {
   "cell_type": "code",
   "execution_count": null,
   "metadata": {},
   "outputs": [],
   "source": [
    "def complex_int(function, a, b):\n",
    "    func_real = lambda x: function(x).real\n",
    "    func_imag = lambda x: function(x).imag\n",
    "    result_real = integrate.quad(func_real, a, b)[0]\n",
    "    result_imag = integrate.quad(func_imag, a, b)[0]\n",
    "    return result_real + 1j * result_imag"
   ]
  },
  {
   "cell_type": "code",
   "execution_count": null,
   "metadata": {},
   "outputs": [],
   "source": [
    "X = np.linspace(-l/4, l/4 - pitch, N//2, dtype=np.double)\n",
    "uu = []\n",
    "for j in range(N//2):\n",
    "      fun = lambda xn : 1/2/np.pi * z/np.sqrt((X[j]-xn)**2+z**2) * (1./np.sqrt((X[j]-xn)**2+z**2)-1j*k) * np.exp(1j*k*np.sqrt((X[j]-xn)**2+z**2)) / np.sqrt((X[j]-xn)**2+z**2)\n",
    "      uu.append(complex_int(fun, -(r-1) * pitch, r * pitch))\n",
    "\n",
    "uu = np.array(uu)\n",
    "uu = uu / max(abs(uu))\n",
    "phase_rsi = np.angle(uu)\n",
    "amplitude_rsi = np.abs(uu)\n",
    "plt.plot(X, amplitude_rsi)"
   ]
  },
  {
   "cell_type": "markdown",
   "metadata": {},
   "source": [
    "## Impulse Response"
   ]
  },
  {
   "cell_type": "code",
   "execution_count": null,
   "metadata": {},
   "outputs": [],
   "source": [
    "R = np.sqrt(x**2 + z**2)\n",
    "kernel = 1 / 2 / np.pi * z / R * (1 / R - 1j * k) * np.exp(1j * k * R) / R\n",
    "t_FT = fft.fftshift(fft.fft(fft.fftshift(c)))\n",
    "kernel_FT = fft.fftshift(fft.fft(fft.fftshift(kernel)))\n",
    "t_1 = fft.ifftshift(fft.ifft(fft.ifftshift(kernel_FT * t_FT)))\n",
    "t_1  = t_1 / max(abs(t_1))\n",
    "t_1 = t_1[N//2 - N//4 + 1 : N//2 + N//4 + 1]\n",
    "plt.plot(x[N//2 - N//4 + 1 : N//2 + N//4 + 1], abs(t_1))"
   ]
  },
  {
   "cell_type": "markdown",
   "metadata": {},
   "source": [
    "## BLASM"
   ]
  },
  {
   "cell_type": "code",
   "execution_count": null,
   "metadata": {},
   "outputs": [],
   "source": [
    "fc = N * pitch / lam / z / 2  # f_limit\n",
    "H = np.exp(1j * k * z * np.sqrt(1 - (s * lam)**2))\n",
    "H[abs(s) > fc] = 0\n",
    "t_FT = fft.fftshift(fft.fft(fft.fftshift(c)))\n",
    "t_2 = fft.ifftshift(fft.ifft(fft.ifftshift(H * t_FT)))\n",
    "t_2  = t_2 / max(abs(t_2))\n",
    "t_2 = t_2[N//2 - N//4 + 1 : N//2 + N//4]\n",
    "phase_asm_li = np.angle(t_2)\n",
    "amplitude_asm_li = np.abs(t_2)\n",
    "plt.plot(x[N//2 - N//4 + 1 : N//2 + N//4 + 1], amplitude_asm_li)"
   ]
  },
  {
   "cell_type": "markdown",
   "metadata": {},
   "source": [
    "## BEASM"
   ]
  },
  {
   "cell_type": "code",
   "execution_count": null,
   "metadata": {},
   "outputs": [],
   "source": [
    "# number of source points\n",
    "n = 1024\n",
    "r = n // 4\n",
    "pad = 2\n",
    "N = n * pad\n",
    "\n",
    "pitch = 1e-6\n",
    "z = 3  #\n",
    "l = N * pitch\n",
    "\n",
    "lam = 500e-6\n",
    "k = 2 * np.pi / lam\n",
    "\n",
    "# number of target points\n",
    "M = N\n",
    "\n",
    "# the source points\n",
    "x = np.linspace(-l / 2, l / 2, N)\n",
    "\n",
    "# the target points\n",
    "s = np.linspace(-1 / 2 / pitch, 1 / 2 / pitch - 1 / l, M)"
   ]
  },
  {
   "cell_type": "code",
   "execution_count": null,
   "metadata": {},
   "outputs": [],
   "source": [
    "iflag = -1\n",
    "eps = 1e-12\n",
    "K = N / 2 / np.max(np.abs(s))\n",
    "fcn = 1 / 2 * np.sqrt(N / lam / z)  # f_extend\n",
    "ss = fcn / np.max(np.abs(s))\n",
    "zc = N * pitch**2 / lam\n",
    "if z < zc:\n",
    "    fxn = s\n",
    "else:\n",
    "    fxn = s * (ss - 0.0)\n",
    "H = np.exp(1j * k * (z * np.sqrt(1 - (fxn * lam)**2)))\n",
    "\n",
    "c = pupil[N//2, :] + 1j * 0\n",
    "t_asmNUFT = finufft.nufft1d3(x / np.max(np.abs(x)) * np.pi, c, fxn * K, isign=iflag, eps=eps)\n",
    "t_3 = finufft.nufft1d3(x / (np.max(np.abs(x))) * np.pi, H * t_asmNUFT, fxn * K, isign=-iflag, eps=eps)\n",
    "\n",
    "t_3 = t_3 / np.max(np.abs(t_3))\n",
    "t_3 = t_3[N//2 - N//4 + 1 : N // 2 + N // 4 + 1]\n",
    "phase_asm_ex = np.angle(t_3)\n",
    "amplitude_asm_ex = np.abs(t_3)\n",
    "plt.plot(x[N//2 - N//4 + 1 : N // 2 + N // 4 + 1], amplitude_asm_ex)"
   ]
  }
 ],
 "metadata": {
  "kernelspec": {
   "display_name": "Python 3.9.15 ('sampling')",
   "language": "python",
   "name": "python3"
  },
  "language_info": {
   "codemirror_mode": {
    "name": "ipython",
    "version": 3
   },
   "file_extension": ".py",
   "mimetype": "text/x-python",
   "name": "python",
   "nbconvert_exporter": "python",
   "pygments_lexer": "ipython3",
   "version": "3.9.15"
  },
  "vscode": {
   "interpreter": {
    "hash": "ce3fd5b23fc1b6f25a6e4103d32c12cb7db6b7c0fb9589c67f0ee96b93e69753"
   }
  }
 },
 "nbformat": 4,
 "nbformat_minor": 4
}
