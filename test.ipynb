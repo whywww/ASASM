{
 "cells": [
  {
   "cell_type": "code",
   "execution_count": null,
   "metadata": {},
   "outputs": [],
   "source": [
    "import numpy as np\n",
    "import matplotlib.pyplot as plt\n",
    "from ASASM import mdft\n",
    "import torch\n",
    "import math"
   ]
  },
  {
   "cell_type": "code",
   "execution_count": null,
   "metadata": {},
   "outputs": [],
   "source": [
    "torch.manual_seed(0)\n",
    "D = 35e-3 / 16\n",
    "dx_diffuser = 2e-5\n",
    "N_diffuser = int(D / dx_diffuser)\n",
    "print(N_diffuser)\n",
    "D = N_diffuser * dx_diffuser\n",
    "\n",
    "# N_sample = int(D / (dx_diffuser / 41.2))\n",
    "N_sample = 109\n",
    "print(N_sample)\n",
    "dx_sample = D / N_sample"
   ]
  },
  {
   "cell_type": "code",
   "execution_count": null,
   "metadata": {},
   "outputs": [],
   "source": [
    "x = torch.linspace(-D/2, D/2, N_sample)\n",
    "# xx, yy = torch.meshgrid(x, x, indexing='xy')\n",
    "dx_freq = dx_diffuser / 2\n",
    "fx1 = -1/(2*dx_freq)\n",
    "fx2 = 1/(2*dx_freq)\n",
    "fx = torch.linspace(fx1, fx2, 500)\n",
    "\n",
    "amp = torch.rand(N_diffuser, N_diffuser)\n",
    "amp_sample = torch.nn.functional.interpolate(amp[None,None,...], (N_sample,N_sample), mode='nearest')[0,0]\n",
    "plate = amp_sample * torch.exp(1j * amp_sample * 2 * math.pi)\n",
    "plt.subplot(2,2,1)\n",
    "plt.imshow(abs(plate), cmap='gray')\n",
    "plt.subplot(2,2,2)\n",
    "plt.imshow(torch.angle(plate), cmap='twilight')\n",
    "\n",
    "f_plate = mdft(plate, x, x, fx, fx)\n",
    "plt.subplot(2,2,3)\n",
    "plt.imshow(abs(f_plate)**0.5, extent=[fx1,fx2,fx1,fx2])\n",
    "plt.subplot(2,2,4)\n",
    "plt.imshow(torch.angle(f_plate), cmap='twilight', extent=[fx1,fx2,fx1,fx2])"
   ]
  },
  {
   "cell_type": "code",
   "execution_count": null,
   "metadata": {},
   "outputs": [],
   "source": []
  }
 ],
 "metadata": {
  "kernelspec": {
   "display_name": "sampling",
   "language": "python",
   "name": "python3"
  },
  "language_info": {
   "codemirror_mode": {
    "name": "ipython",
    "version": 3
   },
   "file_extension": ".py",
   "mimetype": "text/x-python",
   "name": "python",
   "nbconvert_exporter": "python",
   "pygments_lexer": "ipython3",
   "version": "3.7.15"
  },
  "orig_nbformat": 4,
  "vscode": {
   "interpreter": {
    "hash": "2d6d1c326713c2d603891bf8c5b6ed1254bcc599cadfec7d7c4439b9a131129f"
   }
  }
 },
 "nbformat": 4,
 "nbformat_minor": 2
}
