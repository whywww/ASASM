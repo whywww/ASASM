{
 "cells": [
  {
   "cell_type": "code",
   "execution_count": 1,
   "metadata": {},
   "outputs": [
    {
     "name": "stderr",
     "output_type": "stream",
     "text": [
      "/home/hywei/anaconda3/envs/sampling/lib/python3.7/site-packages/tqdm/auto.py:22: TqdmWarning: IProgress not found. Please update jupyter and ipywidgets. See https://ipywidgets.readthedocs.io/en/stable/user_install.html\n",
      "  from .autonotebook import tqdm as notebook_tqdm\n"
     ]
    }
   ],
   "source": [
    "import numpy as np\n",
    "import matplotlib.pyplot as plt\n",
    "from ASASM import mdft, midft\n",
    "import torch\n",
    "import math"
   ]
  },
  {
   "cell_type": "code",
   "execution_count": null,
   "metadata": {},
   "outputs": [],
   "source": [
    "zf = 0.0357\n",
    "z = 0.01"
   ]
  },
  {
   "cell_type": "code",
   "execution_count": 23,
   "metadata": {},
   "outputs": [],
   "source": [
    "def mdft1d(in_matrix, x, fx):\n",
    "    x = x.unsqueeze(-1)\n",
    "    fx = fx.unsqueeze(-2)\n",
    "    mx = torch.exp(-2 * torch.pi * 1j * torch.matmul(x, fx))\n",
    "    out_matrix = torch.matmul(in_matrix, mx)\n",
    "\n",
    "    lx = torch.numel(x)\n",
    "    if lx == 1:\n",
    "        dx = 1\n",
    "    else:\n",
    "        dx = (torch.squeeze(x)[-1] - torch.squeeze(x)[0]) / (lx - 1)\n",
    "\n",
    "    out_matrix = out_matrix * dx  # the result is only valid for uniform sampling\n",
    "    return out_matrix"
   ]
  },
  {
   "cell_type": "code",
   "execution_count": 39,
   "metadata": {},
   "outputs": [
    {
     "name": "stdout",
     "output_type": "stream",
     "text": [
      "1\n"
     ]
    }
   ],
   "source": [
    "r = 1\n",
    "a = 0.001\n",
    "\n",
    "# spat\n",
    "tau_amp = np.exp(-a * r**2) * 2 * a * r / np.pi\n",
    "tau_phi = 100 / np.pi\n",
    "Ns = math.ceil((tau_amp) * (2 * r))\n",
    "tau_spat = Ns / (2 * r)\n",
    "x = np.linspace(-r, r, Ns)\n",
    "print(Ns)\n",
    "\n",
    "# freq\n",
    "fxmax = tau_spat / 2\n",
    "Nf = 1000\n",
    "fx = np.linspace(-fxmax, fxmax, Nf)"
   ]
  },
  {
   "cell_type": "code",
   "execution_count": 30,
   "metadata": {},
   "outputs": [
    {
     "data": {
      "text/plain": [
       "[<matplotlib.lines.Line2D at 0x7f10985a7850>]"
      ]
     },
     "execution_count": 30,
     "metadata": {},
     "output_type": "execute_result"
    },
    {
     "data": {
      "image/png": "[encoded data removed]",
      "text/plain": [
       "<Figure size 300x300 with 1 Axes>"
      ]
     },
     "metadata": {},
     "output_type": "display_data"
    }
   ],
   "source": [
    "u0 = np.exp(- np.pi * x**2) * np.exp(1j * x)\n",
    "plt.figure(figsize=(3,3))\n",
    "plt.plot(np.abs(u0))"
   ]
  },
  {
   "cell_type": "code",
   "execution_count": 31,
   "metadata": {},
   "outputs": [
    {
     "data": {
      "text/plain": [
       "[<matplotlib.lines.Line2D at 0x7f1098520910>]"
      ]
     },
     "execution_count": 31,
     "metadata": {},
     "output_type": "execute_result"
    },
    {
     "data": {
      "image/png": "[encoded data removed]",
      "text/plain": [
       "<Figure size 300x300 with 1 Axes>"
      ]
     },
     "metadata": {},
     "output_type": "display_data"
    }
   ],
   "source": [
    "u1 = mdft1d(torch.as_tensor(u0), torch.as_tensor(x), torch.as_tensor(fx))\n",
    "plt.figure(figsize=(3,3))\n",
    "plt.plot(np.abs(u1))"
   ]
  },
  {
   "cell_type": "code",
   "execution_count": 32,
   "metadata": {},
   "outputs": [
    {
     "data": {
      "text/plain": [
       "[<matplotlib.lines.Line2D at 0x7f10984f6a50>]"
      ]
     },
     "execution_count": 32,
     "metadata": {},
     "output_type": "execute_result"
    },
    {
     "data": {
      "image/png": "[encoded data removed]",
      "text/plain": [
       "<Figure size 300x300 with 1 Axes>"
      ]
     },
     "metadata": {},
     "output_type": "display_data"
    }
   ],
   "source": [
    "u2 = mdft1d(torch.as_tensor(u1), torch.as_tensor(fx), torch.as_tensor(x))\n",
    "plt.figure(figsize=(3,3))\n",
    "plt.plot(np.abs(u2))"
   ]
  },
  {
   "cell_type": "markdown",
   "metadata": {},
   "source": []
  },
  {
   "cell_type": "code",
   "execution_count": null,
   "metadata": {},
   "outputs": [],
   "source": [
    "d = 35e-3\n",
    "zf = 1 / (1/d - 1/1.7)\n",
    "dv = 5000e-3\n",
    "l1 = dv - zf\n",
    "l2 = 1 / (1/dv - 1/l1)\n",
    "lam = 500e-9\n",
    "k = 2 * np.pi / lam\n",
    "D = d / 16"
   ]
  },
  {
   "cell_type": "code",
   "execution_count": null,
   "metadata": {},
   "outputs": [],
   "source": [
    "Ns = 50\n",
    "dx = D / Ns\n",
    "x = torch.linspace(-D/2, D/2, Ns)\n",
    "xx, yy = torch.meshgrid(x, x, indexing='xy')\n",
    "\n",
    "fx = torch.linspace(-1/(2*dx), 1/(2*dx), 1000)\n",
    "fxx, fyy = torch.meshgrid(fx, fx, indexing='xy')\n",
    "pupil = torch.where(xx**2 + yy**2 <= (D/2)**2, 1., 0.)"
   ]
  },
  {
   "cell_type": "code",
   "execution_count": null,
   "metadata": {},
   "outputs": [],
   "source": [
    "phi_U = k * torch.sqrt((lam*dv*fxx)**2 + (lam*dv*fyy)**2 + (dv-l2)**2)\n",
    "U = torch.exp(1j * phi_U) / (1j * lam * dv)\n",
    "plt.figure(figsize=(3,3))\n",
    "plt.imshow(torch.angle(U))"
   ]
  },
  {
   "cell_type": "code",
   "execution_count": null,
   "metadata": {},
   "outputs": [],
   "source": [
    "radius = np.sqrt(1.7**2 + (xx - 0)**2 + (yy - 0)**2)\n",
    "phi_u = k * radius\n",
    "u = pupil / radius * np.exp(1j * phi_u)\n",
    "# plt.figure(figsize=(3,3))\n",
    "# plt.imshow(torch.angle(u))"
   ]
  },
  {
   "cell_type": "code",
   "execution_count": null,
   "metadata": {},
   "outputs": [],
   "source": [
    "Fu = mdft(u, x, x, fx.unsqueeze(0), fx.unsqueeze(0))\n",
    "plt.figure(figsize=(3,3))\n",
    "plt.imshow(torch.angle(Fu[0]))"
   ]
  },
  {
   "cell_type": "code",
   "execution_count": null,
   "metadata": {},
   "outputs": [],
   "source": [
    "#gradient\n",
    "def h(fx):\n",
    "    h = k*zf*lam**2 * fx / np.sqrt(1 + (lam*zf/dv)**2 * (fx**2+fx**2))\n",
    "    return h\n",
    "plt.figure(figsize=(3,3))\n",
    "plt.plot(h(fx))"
   ]
  },
  {
   "cell_type": "code",
   "execution_count": null,
   "metadata": {},
   "outputs": [],
   "source": [
    "z = zf*1\n",
    "theta = 0\n",
    "xc = - z * np.sin(theta / 180 * np.pi) / np.sqrt(1 - np.sin(theta / 180 * np.pi)**2 - np.sin(theta / 180 * np.pi)**2)\n",
    "def g(fx):\n",
    "    fxs = fx - np.sin(theta/180*torch.pi) / lam\n",
    "    g = -k*z*lam**2*fxs / np.sqrt(1 - (lam*fxs)**2 - (lam*fx)**2)\n",
    "    return g\n",
    "plt.figure(figsize=(3,3))\n",
    "plt.plot(g(fx))"
   ]
  },
  {
   "cell_type": "code",
   "execution_count": null,
   "metadata": {},
   "outputs": [],
   "source": [
    "plt.figure(figsize=(3,3))\n",
    "plt.plot(h(fx)+g(fx))"
   ]
  },
  {
   "cell_type": "code",
   "execution_count": null,
   "metadata": {},
   "outputs": [],
   "source": [
    "def monotonic(L):\n",
    "    non_increasing = all(x>=y for x, y in zip(L, L[1:]))\n",
    "    non_decreasing = all(x<=y for x, y in zip(L, L[1:]))\n",
    "    return non_increasing or non_decreasing\n",
    "monotonic(h(fx)+g(fx))"
   ]
  },
  {
   "cell_type": "code",
   "execution_count": null,
   "metadata": {},
   "outputs": [],
   "source": [
    "FcH = 1 / (4*torch.pi) * (g(-1/dx/2) + g(1/dx/2) + xc)\n",
    "FbUH = 1 / (2*torch.pi) * (max(h(fx)+g(fx)) - min(h(fx)+g(fx)))\n",
    "FbU = (h(fx).max() - h(fx).min()) / (2*torch.pi)\n",
    "FbH = (g(fx).max() - g(fx).min()) / (2*torch.pi)"
   ]
  },
  {
   "cell_type": "code",
   "execution_count": null,
   "metadata": {},
   "outputs": [],
   "source": [
    "2*abs(FcH) + FbUH < max(2*abs(FcH) + FbH, FbU)"
   ]
  },
  {
   "cell_type": "code",
   "execution_count": null,
   "metadata": {},
   "outputs": [],
   "source": [
    "FbH"
   ]
  },
  {
   "cell_type": "code",
   "execution_count": null,
   "metadata": {},
   "outputs": [],
   "source": [
    "FbU"
   ]
  },
  {
   "cell_type": "code",
   "execution_count": null,
   "metadata": {},
   "outputs": [],
   "source": [
    "FbUH"
   ]
  },
  {
   "cell_type": "code",
   "execution_count": null,
   "metadata": {},
   "outputs": [],
   "source": [
    "abs(FbH - FbU)"
   ]
  },
  {
   "cell_type": "code",
   "execution_count": null,
   "metadata": {},
   "outputs": [],
   "source": []
  }
 ],
 "metadata": {
  "kernelspec": {
   "display_name": "sampling",
   "language": "python",
   "name": "python3"
  },
  "language_info": {
   "codemirror_mode": {
    "name": "ipython",
    "version": 3
   },
   "file_extension": ".py",
   "mimetype": "text/x-python",
   "name": "python",
   "nbconvert_exporter": "python",
   "pygments_lexer": "ipython3",
   "version": "3.7.15"
  },
  "orig_nbformat": 4,
  "vscode": {
   "interpreter": {
    "hash": "2d6d1c326713c2d603891bf8c5b6ed1254bcc599cadfec7d7c4439b9a131129f"
   }
  }
 },
 "nbformat": 4,
 "nbformat_minor": 2
}
