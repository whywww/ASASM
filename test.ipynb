{
 "cells": [
  {
   "cell_type": "code",
   "execution_count": null,
   "metadata": {},
   "outputs": [],
   "source": [
    "import os\n",
    "\n",
    "import numpy as np\n",
    "# import glob\n",
    "import torch\n",
    "# import scipy.io as sio\n",
    "import matplotlib.pyplot as plt\n",
    "# import cv2\n",
    "import torch.fft as fft\n",
    "# from tqdm import tqdm, trangel\n",
    "import torch.nn.functional as F\n",
    "import math\n",
    "# import imageio\n",
    "import torchvision.utils as vutils\n",
    "# import re\n",
    "# from torch.utils.tensorboard import SummaryWriter\n",
    "# from random import random, randint\n",
    "# from time import sleep\n",
    "# import argparse\n",
    "# import configparser\n",
    "# from collections import namedtuple"
   ]
  },
  {
   "cell_type": "code",
   "execution_count": null,
   "metadata": {},
   "outputs": [],
   "source": [
    "# device = 'cpu'\n",
    "device = 'cuda:3'"
   ]
  },
  {
   "cell_type": "code",
   "execution_count": null,
   "metadata": {},
   "outputs": [],
   "source": [
    "def ips_to_metric(d, min_depth, max_depth):\n",
    "    return (max_depth * min_depth) / (max_depth - (max_depth - min_depth) * d)\n",
    "\n",
    "nd = 3\n",
    "scene_depths = ips_to_metric(torch.linspace(0, 1, nd), 1, 5)\n",
    "# scene_depths = ips_to_metric(torch.linspace(0, 1, nd) + 1/nd * (torch.rand(nd) - 0.5), 1, 5) # jittering\n",
    "# scene_depths = torch.tensor([1., 1.5217, 1.7, 1.8421, 5])\n",
    "print(scene_depths)"
   ]
  },
  {
   "cell_type": "markdown",
   "metadata": {},
   "source": [
    "## Config Camera"
   ]
  },
  {
   "cell_type": "code",
   "execution_count": null,
   "metadata": {},
   "outputs": [],
   "source": [
    "def get_aperture_px(ap_diam, k, zo, f):\n",
    "    # paraxial spherical wave sampling requirement\n",
    "    # Nl1 = ap_diam**2/zo.min()/wvls.min()\n",
    "    # Exact spherical wave sampling requirement\n",
    "    # Nl1 = (k*ap_diam/math.pi/np.sqrt(1+2/ap_diam)).max()\n",
    "    Nl1 = (k*ap_diam**2/(2*math.pi)/torch.sqrt(ap_diam**2/4+zo[None,:,None,None]**2)).max()\n",
    "    # Lens phase shift sampling requirement\n",
    "    Nl2 = (k*ap_diam**2/(2*math.pi*f)).max()\n",
    "    print(f'The lens should have at least {max(Nl1, Nl2)} pixels')\n",
    "    s = 1 # oversampling factor to ensure the sampling is enough\n",
    "    return int(s*max(Nl1, Nl2)) \n",
    "\n",
    "# # The #pixels on the sensor should satisfy the sampling of H\n",
    "# Nf = (2*zsf * math.pi / ap_pitch**2 / torch.sqrt(k**2 - math.pi**2 / ap_pitch**2)).max()\n",
    "# print(f'The spectrum should have at least {Nf} pixels')"
   ]
  },
  {
   "cell_type": "code",
   "execution_count": null,
   "metadata": {},
   "outputs": [],
   "source": [
    "# config\n",
    "# wvls = torch.tensor([620, 545, 465]) * 1e-9\n",
    "wvls = torch.tensor([620]) * 1e-9\n",
    "wvls = wvls[None,:,None,None]\n",
    "k = 2 * math.pi / wvls  # wavenumber\n",
    "\n",
    "n = 1.5  # refractive index of mask material\n",
    "f = 25e-3 # focal length\n",
    "zof = 1.7 #np.inf # focal distance in object space\n",
    "fnum = 8\n",
    "ap_diam = f / fnum  # aperture physical diameter\n",
    "ap_px = get_aperture_px(ap_diam, k, scene_depths, f)\n",
    "ap_pitch = ap_diam / ap_px # 2.78e-6\n",
    "print(f'aperture diameter = {ap_diam:.3e}; aperture pitch = {ap_pitch:.3e}; pixel number = {ap_px}')\n",
    "\n",
    "obj_px = 256\n",
    "zsf = 1/(1/f - 1/zof)  # sensor distance to the lens 0.025\n",
    "zo = scene_depths\n",
    "\n",
    "# sensor\n",
    "ss_virpx = 4000  # virtual px\n",
    "ss_pitch = 5.96e-6 # 3.45e-6\n",
    "ss_virdiam = ss_virpx * ss_pitch\n",
    "print(f'sensor virtual diameter = {ss_virdiam:.3e}; sensor pitch = {ss_pitch:.3e}; pixel number = {ss_virpx}')\n",
    "psf_up_sampling_factor = 1\n",
    "ss_vec = ss_pitch * torch.linspace(-(ss_virpx-1)/2, (ss_virpx-1)/2, ss_virpx * psf_up_sampling_factor, dtype=torch.double)\n",
    "ss_virpitch = (ss_vec[-1] - ss_vec[0]) / (len(ss_vec) - 1)\n",
    "\n",
    "# mask\n",
    "m2s = zsf*.5  # mask to sensor distance\n",
    "# m2s = 0.02\n",
    "ms_pitch = ap_pitch # has to be at least aperture pitch, otherwise there will be sampling problem of the input field\n",
    "ms_diam = ss_virdiam\n",
    "ms_px = math.ceil(ms_diam / ms_pitch)\n",
    "# ms_px = int((ss_virdiam+ap_diam)/2 / ms_pitch)\n",
    "ms_vec = ms_pitch * torch.linspace(-(ms_px-1)/2, (ms_px-1)/2, ms_px, dtype=torch.double)\n",
    "print(f'Mask diameter = {ms_px*ms_pitch}, pixel num = {ms_px}')\n",
    "\n",
    "psf_sz = 257\n",
    "psf_diam = psf_sz * ss_pitch\n",
    "\n",
    "# aperture\n",
    "x = torch.linspace(-1, 1, ap_px) # center is 0\n",
    "xx, yy = torch.meshgrid(x, x, indexing='xy')  # aperture coord.\n",
    "pupil = torch.where( xx**2+yy**2<=1, 1, 0 )  # binary aperture pupil\n",
    "\n",
    "ap_vec = ap_pitch * torch.linspace(-(ap_px - 1) / 2, (ap_px - 1) / 2, ap_px, dtype=torch.double)\n",
    "uu, vv = torch.meshgrid(ap_vec, ap_vec, indexing='xy')  # aperture coord.\n",
    "ap_coords = torch.stack((uu,vv))\n",
    "\n",
    "# object\n",
    "obj_virpx = ss_virpx\n",
    "obj_virdiam = ss_virdiam * zo.max() / zsf  # max FoV\n",
    "FoV = 2*torch.atan2(obj_virdiam/2, zo.max())/(2*math.pi)*360  # virtual FoV\n",
    "print(f'Virtual FoV = {FoV:.2f}, object diameter at zo_max: {obj_virdiam:.3f}m')"
   ]
  },
  {
   "cell_type": "markdown",
   "metadata": {},
   "source": [
    "## Compute PSF"
   ]
  },
  {
   "cell_type": "markdown",
   "metadata": {},
   "source": [
    "### location mapping"
   ]
  },
  {
   "cell_type": "code",
   "execution_count": null,
   "metadata": {},
   "outputs": [],
   "source": [
    "def get_center_at_image_plane(xov, yov, zov, zi, veci):\n",
    "\n",
    "    image_pitch = veci[-1] - veci[-2]\n",
    "    image_sz = len(veci)\n",
    "\n",
    "    # map xov to xsv\n",
    "    xsv, ysv = -xov * zi / zov, -yov * zi / zov\n",
    "    # print('center at sensor:', float(xsv), float(ysv))\n",
    "\n",
    "    # pixel offset from the sensor center\n",
    "    # q_offset, p_offset = xsv/(ss_pitch/psf_up_sampling_factor), ysv/(ss_pitch/psf_up_sampling_factor)\n",
    "    p_offset, q_offset = xsv/image_pitch, ysv/image_pitch\n",
    "    # print('pixel offset from sensor center:', float(q_offset), float(p_offset))\n",
    "\n",
    "    # pixel location at the sensor\n",
    "    psv = (image_sz//2 + p_offset).to(torch.int)\n",
    "    qsv = (image_sz//2 + q_offset).to(torch.int)\n",
    "    \n",
    "    # check if enough to crop psf\n",
    "    # if field_sz[0]//2 - p_offset.abs() < psf_sz//2 or field_sz[1]//2 - q_offset.abs() < psf_sz//2:\n",
    "    #     psf_sz = int(max(0, min(field_sz[0]//2 - p_offset.abs(), field_sz[1]//2 - q_offset.abs())))\n",
    "    #     print(f'[Warning]: PSF is too large, resized to {psf_sz}!')\n",
    "\n",
    "    return psv, qsv\n",
    "\n",
    "# from optics.MaskedCamera import Partitions\n",
    "# n_part = 2\n",
    "# partition = Partitions(obj_virdiam, obj_px, n_part=n_part, overlap=32)\n",
    "# xov, yov = partition.centers[0][1]\n",
    "# i = 0\n",
    "# j = 0\n",
    "# partition.set_partition((i, j))\n",
    "# xov, yov = partition.get_physical_obj_center(obj_virdiam)\n",
    "# xov = yov = -(obj_virpx/2 - psf_sz/2 -1) * (obj_virdiam/obj_virpx)\n",
    "# xov = yov = -obj_virdiam/3\n",
    "# xov = -1.5660#-0.1943 #-0.8339\n",
    "# yov = -1.5660#-0.1943 #-0.8339\n",
    "# xov = yov = -1.8\n",
    "# print(xov, yov)\n",
    "# FoV = torch.atan2(torch.abs(torch.tensor(xov)), zo.max())/(2*math.pi)*360  # real full FoV\n",
    "# print(f'incident angle = {float(FoV):.3f}')\n",
    "xov = yov = 0\n",
    "psv, qsv = get_center_at_image_plane(xov, yov, zo.max(), zsf, ss_vec)\n",
    "print(psv, qsv)\n",
    "pmv, qmv = get_center_at_image_plane(xov, yov, zo.max(), zsf-m2s, ms_vec)\n",
    "print(pmv, qmv)"
   ]
  },
  {
   "cell_type": "code",
   "execution_count": null,
   "metadata": {},
   "outputs": [],
   "source": [
    "# ss_crop_size = 1000#psf_sz #int(ap_diam / ss_virpitch)\n",
    "# ss_crop_diam = ss_crop_size * ss_virpitch\n",
    "# ss_vecx = ss_vec[psv-ss_crop_size//2 : psv+ss_crop_size//2+ss_crop_size%2]\n",
    "# ss_vecy = ss_vec[qsv-ss_crop_size//2 : qsv+ss_crop_size//2+ss_crop_size%2]\n",
    "ss_vecx = ss_vecy = ss_vec\n",
    "ss_crop_diam = ss_virdiam\n",
    "print(ss_vecx.shape)\n",
    "\n",
    "# ms_crop_size = int(m2s / zsf * ap_diam / ms_pitch * 1.5)\n",
    "# ms_crop_diam = ms_crop_size * ms_pitch\n",
    "# ms_vecx = ms_vec[pmv-ms_crop_size//2 : pmv+ms_crop_size//2+ms_crop_size%2]\n",
    "# ms_vecy = ms_vec[qmv-ms_crop_size//2 : qmv+ms_crop_size//2+ms_crop_size%2]\n",
    "ms_vecx = ms_vecy = ms_vec\n",
    "ms_crop_diam = ms_diam\n",
    "# print(ms_crop_size)\n"
   ]
  },
  {
   "cell_type": "markdown",
   "metadata": {},
   "source": [
    "### propagation"
   ]
  },
  {
   "cell_type": "code",
   "execution_count": null,
   "metadata": {},
   "outputs": [],
   "source": [
    "from svASM import AngularSpectrumMethodMM\n",
    "# prop1 = AngularSpectrumMethodMM(ap_pitch, (obj_virdiam/2, obj_virdiam/2, zo.max()), ms_crop_diam, ms_crop_diam, zsf, wvls, device)\n",
    "# prop2 = AngularSpectrumMethodMM(ms_pitch, (obj_virdiam/2, obj_virdiam/2, zo.max()), ss_crop_diam, ss_crop_diam, zsf, wvls, device)\n",
    "prop = AngularSpectrumMethodMM(ap_pitch, (xov, yov, zo.max()), ss_crop_diam, ss_crop_diam, zsf, wvls, device)"
   ]
  },
  {
   "cell_type": "code",
   "execution_count": null,
   "metadata": {},
   "outputs": [],
   "source": [
    "def get_exact_spherical_phase(src_point, dest_plane, distance):\n",
    "    ''' \n",
    "    Get the phase shift of the spherical wave from a single point source \n",
    "    \n",
    "    :param src: tuple (x,y), spatial coordinate of the source\n",
    "    :param dest: tensor [uu,vv], coordinate grid at the destination\n",
    "    :param distance: scalar tensor, travel distance\n",
    "    :return: (DxCxUxV) amplitude and phase of the spherical wave\n",
    "    '''\n",
    "\n",
    "    z = distance[:,None,None,None]\n",
    "    x = src_point[0][:,None,None,None]\n",
    "    y = src_point[1][:,None,None,None]\n",
    "    radius = torch.sqrt(z**2 + (dest_plane[0]-x)**2 + (dest_plane[1]-y)**2)\n",
    "    phase = k * (radius - z)\n",
    "\n",
    "    # normalize the total energy of input light to 1\n",
    "    amplitude = pupil * z / wvls / radius**2\n",
    "    amplitude /= torch.sqrt(torch.sum(amplitude**2, dim=(-2,-1), keepdim=True))\n",
    "    return amplitude, phase\n",
    "    \n",
    "def get_lens_phase_shift():\n",
    "    return k/2 * (-1/f) * (ap_coords[0]**2 + ap_coords[1]**2)"
   ]
  },
  {
   "cell_type": "code",
   "execution_count": null,
   "metadata": {},
   "outputs": [],
   "source": [
    "def get_psf_from_xyz(xov, yov, scene_depths, psf_sz):\n",
    "        'Get shift-invariant PSFs at each depth layers'\n",
    "\n",
    "        M_ = scene_depths/zo.max()\n",
    "        amp, phi_in = get_exact_spherical_phase((xov*M_, yov*M_), ap_coords, scene_depths)\n",
    "        # phi_l =  get_lens_phase_shift()\n",
    "        phi_ul = pupil * (phi_in )\n",
    "        Ul = pupil * amp * torch.exp(1j * (phi_ul)) \n",
    "\n",
    "        # print(torch.sum(torch.square(torch.abs(Ul)) * ap_pitch**2, dim=(-2,-1)))\n",
    "        # U1, Fu = prop1(Ul.to(device), xov, yov, zo.max(), ap_vec, ap_vec, ms_vecx, ms_vecy, torch.tensor(zsf-m2s))\n",
    "        # tmask = torch.exp(1j * phase)\n",
    "        # U1 = U1 * tmask\n",
    "        # U1 = prop2(U1, xov, yov, zo.max(), ms_vecx, ms_vecy, ss_vecx, ss_vecy, torch.tensor(m2s))#.to('cpu')\n",
    "        U1 = prop(Ul.to(device), xov, yov, zo.max(), ap_vec, ap_vec, ss_vecx, ss_vecy, torch.tensor(zsf))\n",
    "        # print(torch.sum(torch.square(torch.abs(U1)) * ((ss_vec[-1]-ss_vec[0])/(len(ss_vec)-1))**2, dim=(-2,-1)))\n",
    "        \n",
    "        intensity = torch.abs(U1.to('cpu'))\n",
    "\n",
    "        # psv = qsv = intensity.shape[-1]//2\n",
    "\n",
    "        # psv, qsv = get_psf_center_at_sensor(xov, yov, zo.max(), zsf, intensity.shape[-2:], psf_sz)\n",
    "        # print(psv, qsv)\n",
    "        # intensity = intensity[...,\n",
    "        #                 psv-psf_sz//2 : psv+psf_sz//2+psf_sz%2,\n",
    "        #                 qsv-psf_sz//2 : qsv+psf_sz//2+psf_sz%2] # odd/even ok\n",
    "        # # c = intensity.shape[-1]//2\n",
    "        # intensity = intensity[..., c-psf_sz//2 : c + psf_sz//2,\n",
    "        #                         c-psf_sz//2:c-psf_sz//2]\n",
    "\n",
    "\n",
    "        # vutils.save_image(psf, 'psf.png', normalize=True)\n",
    "\n",
    "        return intensity.to(torch.float)\n"
   ]
  },
  {
   "cell_type": "code",
   "execution_count": null,
   "metadata": {},
   "outputs": [],
   "source": [
    "psf_amp = get_psf_from_xyz(xov, yov, scene_depths, psf_sz=257)\n",
    "# vutils.save_image(psf_amp, 'test.png', normalize=True)"
   ]
  },
  {
   "cell_type": "code",
   "execution_count": null,
   "metadata": {},
   "outputs": [],
   "source": [
    "plt.imshow(psf_amp[-1,0].detach(), cmap='gray')"
   ]
  },
  {
   "cell_type": "code",
   "execution_count": null,
   "metadata": {},
   "outputs": [],
   "source": [
    "def find_psf_window(img, sz):\n",
    "    hmax = torch.argmax(torch.sum(img, dim=-1), dim=-1).to(int)\n",
    "    wmax = torch.argmax(torch.sum(img, dim=-2), dim=-1).to(int)\n",
    "    print(hmax, wmax)\n",
    "    window = []\n",
    "    for d in range(img.shape[-4]):\n",
    "        window.append(img[..., d, :, hmax[d]-sz//2 : hmax[d]+sz//2, wmax[d]-sz//2 : wmax[d]+sz//2])\n",
    "    window = torch.stack(window)\n",
    "    return window\n",
    "\n",
    "psf_crop = find_psf_window(psf_amp, 64)"
   ]
  },
  {
   "cell_type": "code",
   "execution_count": null,
   "metadata": {},
   "outputs": [],
   "source": [
    "plt.subplots(figsize=(50,40))\n",
    "for i in range(len(scene_depths)):\n",
    "    plt.subplot(4,4,i+1)\n",
    "    # plt.imshow(psf[i].permute(1,2,0)/psf[i].max())\n",
    "    plt.imshow(psf_crop[i,0], cmap='gray')\n",
    "    plt.title(scene_depths[i])\n",
    "    plt.colorbar()"
   ]
  },
  {
   "cell_type": "code",
   "execution_count": null,
   "metadata": {},
   "outputs": [],
   "source": [
    "plt.subplots(figsize=(50,40))\n",
    "for i in range(len(scene_depths)):\n",
    "    plt.subplot(4,4,i+1)\n",
    "    # plt.imshow(psf[i].permute(1,2,0)/psf[i].max())\n",
    "    plt.imshow(psf_amp[i,0], cmap='gray')\n",
    "    plt.title(scene_depths[i])\n",
    "    plt.colorbar()"
   ]
  },
  {
   "cell_type": "markdown",
   "metadata": {},
   "source": [
    "# NUFFT"
   ]
  },
  {
   "cell_type": "code",
   "execution_count": 1,
   "metadata": {},
   "outputs": [],
   "source": [
    "import numpy as np\n",
    "import matplotlib.pyplot as plt\n",
    "import finufft\n",
    "import numpy.fft as fft\n",
    "from scipy import integrate\n",
    "import math"
   ]
  },
  {
   "cell_type": "code",
   "execution_count": 2,
   "metadata": {},
   "outputs": [],
   "source": [
    "def get_exact_spherical_wave_np(src_point, dest_plane, distance):\n",
    "    ''' \n",
    "    Get the phase shift of the spherical wave from a single point source \n",
    "    \n",
    "    :param src: tuple (x,y), spatial coordinate of the source\n",
    "    :param dest: tensor [uu,vv], coordinate grid at the destination\n",
    "    :param distance: scalar tensor, travel distance\n",
    "    :return: (DxCxUxV) amplitude and phase of the spherical wave\n",
    "    '''\n",
    "\n",
    "    x = src_point[0]\n",
    "    y = src_point[1]\n",
    "    radius = np.sqrt(distance**2 + (dest_plane[0]-x)**2 + (dest_plane[1]-y)**2)\n",
    "    phase = k * (radius - distance)\n",
    "\n",
    "    # normalize the total energy of input light to 1\n",
    "    amplitude = pupil * distance / lam / radius**2\n",
    "    amplitude /= np.sqrt(np.sum(amplitude**2, axis=(-2,-1), keepdims=True))\n",
    "    return amplitude * np.exp(1j * phase)\n",
    "\n",
    "\n",
    "def get_parallel_wave(src_point, dest_plane, distance):\n",
    "    x = src_point[0]\n",
    "    y = src_point[1]\n",
    "    vec = np.array([-x, -y, distance])\n",
    "    kx, ky, kz = vec / np.sqrt(np.dot(vec, vec))\n",
    "\n",
    "    # radius = np.sqrt((distance**2 + dest_plane[0]-x)**2 + (dest_plane[1]-y)**2)\n",
    "    phase = k * (kx * dest_plane[0] + ky * dest_plane[1] + kz)\n",
    "\n",
    "    # normalize the total energy of input light to 1\n",
    "    amplitude = pupil * np.ones_like(phase)\n",
    "    amplitude /= np.sqrt(np.sum(amplitude**2, axis=(-2,-1), keepdims=True))\n",
    "    return amplitude * np.exp(1j * phase)\n",
    "\n",
    "\n",
    "def get_lens_phase_shift(f, ap_coords):\n",
    "    phase = k/2 * (-1/f) * (ap_coords[0]**2 + ap_coords[1]**2)\n",
    "    return np.exp(1j * phase)"
   ]
  },
  {
   "cell_type": "code",
   "execution_count": 3,
   "metadata": {},
   "outputs": [
    {
     "name": "stdout",
     "output_type": "stream",
     "text": [
      "0.005\n"
     ]
    }
   ],
   "source": [
    "# number of source points\n",
    "n = 1024\n",
    "r = int(0.8/1.024 * 1024) // 2\n",
    "pad = 2\n",
    "N = n * pad\n",
    "\n",
    "pitch = 1e-6\n",
    "z = 0.005 # 1/(1/25e-3 - 1/1.7) # \n",
    "print(z)\n",
    "l = N * pitch\n",
    "\n",
    "lam = 500e-9\n",
    "k = 2 * np.pi / lam\n",
    "\n",
    "# number of target points\n",
    "M = N\n",
    "\n",
    "# the source points\n",
    "x = np.linspace(-l / 2, l / 2, N)\n",
    "y = np.linspace(-l / 2, l / 2, N)\n",
    "xx, yy = np.meshgrid(x, y)\n",
    "\n",
    "# the target points\n",
    "s = np.linspace(-1 / 2 / pitch, 1 / 2 / pitch - 1 / l, M)\n",
    "t = np.linspace(-1 / 2 / pitch, 1 / 2 / pitch - 1 / l, M)\n",
    "ss, tt = np.meshgrid(s, t)"
   ]
  },
  {
   "cell_type": "code",
   "execution_count": 4,
   "metadata": {},
   "outputs": [
    {
     "data": {
      "text/plain": [
       "0.004096"
      ]
     },
     "execution_count": 4,
     "metadata": {},
     "output_type": "execute_result"
    }
   ],
   "source": [
    "N * pitch**2 / lam"
   ]
  },
  {
   "cell_type": "code",
   "execution_count": 5,
   "metadata": {},
   "outputs": [],
   "source": [
    "# their complex strengths\n",
    "c = np.linspace(-N//2, N//2, N)\n",
    "uu, vv = np.meshgrid(c, c)\n",
    "pupil = np.where(uu**2+vv**2<=r**2, 1, 0)\n",
    "# E0 = pupil + 1j * 0\n",
    "\n",
    "# plt.imshow(pupil, cmap='gray')\n",
    "\n",
    "# calcuate the type-3 NUFFT\n",
    "# f = finufft.nufft1d3(x, c, s)\n",
    "# f = finufft.nufft2d3(x, y, c, s, t).reshape(N, N)"
   ]
  },
  {
   "cell_type": "code",
   "execution_count": 6,
   "metadata": {},
   "outputs": [
    {
     "data": {
      "image/png": "[encoded data removed]",
      "text/plain": [
       "<Figure size 640x480 with 1 Axes>"
      ]
     },
     "metadata": {},
     "output_type": "display_data"
    }
   ],
   "source": [
    "theta = 5 / 180 * math.pi\n",
    "zo = 1.7\n",
    "xo, yo = -math.tan(theta) * zo, 0\n",
    "# E0 = get_parallel_wave((0, 0), np.stack((xx, yy), axis=0), zo)\n",
    "E1 = pupil * get_parallel_wave((xo, yo), np.stack((xx, yy), axis=0), zo)\n",
    "# E0 = get_exact_spherical_wave_np((0, 0), np.stack((xx, yy), axis=0), zo) #* get_lens_phase_shift(25e-3, np.stack((xx, yy), axis=0))\n",
    "# E1 = pupil * get_exact_spherical_wave_np((xo, yo), np.stack((xx, yy), axis=0), zo) #* get_lens_phase_shift(25e-3, np.stack((xx, yy), axis=0))\n",
    "plt.imshow(np.abs(E1), cmap='gray')\n",
    "xs, ys = math.tan(theta) * z, 0"
   ]
  },
  {
   "cell_type": "code",
   "execution_count": 7,
   "metadata": {},
   "outputs": [
    {
     "name": "stdout",
     "output_type": "stream",
     "text": [
      "max freq: 366.92, interval: 0.36, length: (2048, 2048)\n"
     ]
    },
    {
     "data": {
      "text/plain": [
       "<matplotlib.image.AxesImage at 0x7f3c01ec1160>"
      ]
     },
     "execution_count": 7,
     "metadata": {},
     "output_type": "execute_result"
    },
    {
     "data": {
      "image/png": "[encoded data removed]",
      "text/plain": [
       "<Figure size 640x480 with 1 Axes>"
      ]
     },
     "metadata": {},
     "output_type": "display_data"
    }
   ],
   "source": [
    "# from shift_BEASM_cpu import BEASM2d\n",
    "# prop = BEASM2d(z, x, y, lam, 'cpu')\n",
    "# U = prop(E1)\n",
    "# plt.imshow(abs(U), cmap='gray')\n",
    "\n",
    "from shift_BEASM_cpu import shift_BEASM2d\n",
    "prop = shift_BEASM2d(xs, ys, z, x, y, lam)\n",
    "U = prop(E1)\n",
    "# U = U[..., N//2-r:N//2+r, N//2-r:N//2+r]\n",
    "plt.imshow(np.abs(U), cmap='gray')"
   ]
  },
  {
   "cell_type": "code",
   "execution_count": null,
   "metadata": {},
   "outputs": [],
   "source": [
    "from svASM import AngularSpectrumMethodMM\n",
    "device =  'cuda:3' # 'cpu' #\n",
    "prop = AngularSpectrumMethodMM((xo, yo, zo), z, x, y, x, y, lam, device, (xs, ys))\n",
    "U = prop(E1)\n",
    "plt.imshow(abs(U.cpu())[0], cmap='gray')"
   ]
  },
  {
   "cell_type": "markdown",
   "metadata": {},
   "source": [
    "## analytical integral "
   ]
  },
  {
   "cell_type": "code",
   "execution_count": null,
   "metadata": {},
   "outputs": [],
   "source": [
    "j = 0\n",
    "fun = lambda xn : 1/2/np.pi * z/np.sqrt((X[j]-xn)**2+z**2) * (1./np.sqrt((X[j]-xn)**2+z**2)-1j*k) * np.exp(1j*k*np.sqrt((X[j]-xn)**2+z**2)) / np.sqrt((X[j]-xn)**2+z**2)\n",
    "fun(0)"
   ]
  },
  {
   "cell_type": "code",
   "execution_count": null,
   "metadata": {},
   "outputs": [],
   "source": [
    "def complex_int(function, a, b):\n",
    "    func_real = lambda x: function(x).real\n",
    "    func_imag = lambda x: function(x).imag\n",
    "    result_real = integrate.quad(func_real, -(r-1) * pitch, r * pitch)[0]\n",
    "    result_imag = integrate.quad(func_imag, -(r-1) * pitch, r * pitch)[0]\n",
    "    return result_real + 1j * result_imag"
   ]
  },
  {
   "cell_type": "code",
   "execution_count": null,
   "metadata": {},
   "outputs": [],
   "source": [
    "X = np.linspace(-l/4, l/4 - pitch, N//2, dtype=np.double)\n",
    "uu = []\n",
    "for j in range(N//2):\n",
    "      fun = lambda xn : 1/2/np.pi * z/np.sqrt((X[j]-xn)**2+z**2) * (1./np.sqrt((X[j]-xn)**2+z**2)-1j*k) * np.exp(1j*k*np.sqrt((X[j]-xn)**2+z**2)) / np.sqrt((X[j]-xn)**2+z**2)\n",
    "      uu.append(complex_int(fun, -(r-1) * pitch, r * pitch))\n",
    "\n",
    "uu = np.array(uu)\n",
    "uu = uu / max(abs(uu))\n",
    "phase_rsi = np.angle(uu)\n",
    "amplitude_rsi = np.abs(uu)\n",
    "plt.plot(X, amplitude_rsi)"
   ]
  },
  {
   "cell_type": "markdown",
   "metadata": {},
   "source": [
    "## Impulse Response"
   ]
  },
  {
   "cell_type": "code",
   "execution_count": null,
   "metadata": {},
   "outputs": [],
   "source": [
    "R = np.sqrt(x**2 + z**2)\n",
    "kernel = 1 / 2 / np.pi * z / R * (1 / R - 1j * k) * np.exp(1j * k * R) / R\n",
    "t_FT = fft.fftshift(fft.fft(fft.fftshift(c)))\n",
    "kernel_FT = fft.fftshift(fft.fft(fft.fftshift(kernel)))\n",
    "t_1 = fft.ifftshift(fft.ifft(fft.ifftshift(kernel_FT * t_FT)))\n",
    "t_1  = t_1 / max(abs(t_1))\n",
    "t_1 = t_1[N//2 - N//4 + 1 : N//2 + N//4 + 1]\n",
    "plt.plot(x[N//2 - N//4 + 1 : N//2 + N//4 + 1], abs(t_1))"
   ]
  },
  {
   "cell_type": "markdown",
   "metadata": {},
   "source": [
    "## BLASM"
   ]
  },
  {
   "cell_type": "code",
   "execution_count": null,
   "metadata": {},
   "outputs": [],
   "source": [
    "fc = N * pitch / lam / z / 2  # f_limit\n",
    "H = np.exp(1j * k * z * np.sqrt(1 - (s * lam)**2))\n",
    "H[abs(s) > fc] = 0\n",
    "t_FT = fft.fftshift(fft.fft(fft.fftshift(c)))\n",
    "t_2 = fft.ifftshift(fft.ifft(fft.ifftshift(H * t_FT)))\n",
    "t_2  = t_2 / max(abs(t_2))\n",
    "t_2 = t_2[N//2 - N//4 + 1 : N//2 + N//4]\n",
    "phase_asm_li = np.angle(t_2)\n",
    "amplitude_asm_li = np.abs(t_2)\n",
    "plt.plot(x[N//2 - N//4 + 1 : N//2 + N//4 + 1], amplitude_asm_li)"
   ]
  },
  {
   "cell_type": "markdown",
   "metadata": {},
   "source": [
    "## BEASM"
   ]
  },
  {
   "cell_type": "code",
   "execution_count": null,
   "metadata": {},
   "outputs": [],
   "source": [
    "# number of source points\n",
    "n = 1024\n",
    "r = n // 4\n",
    "pad = 2\n",
    "N = n * pad\n",
    "\n",
    "pitch = 1e-6\n",
    "z = 3  #\n",
    "l = N * pitch\n",
    "\n",
    "lam = 500e-6\n",
    "k = 2 * np.pi / lam\n",
    "\n",
    "# number of target points\n",
    "M = N\n",
    "\n",
    "# the source points\n",
    "x = np.linspace(-l / 2, l / 2, N)\n",
    "# y = np.linspace(-l / 2, l / 2, N)\n",
    "# xx, yy = np.meshgrid(x, y)\n",
    "\n",
    "# the target points\n",
    "s = np.linspace(-1 / 2 / pitch, 1 / 2 / pitch - 1 / l, M)\n",
    "# t = np.linspace(-1 / 2 / pitch, 1 / 2 / pitch - 1 / l, M)\n",
    "# ss, tt = np.meshgrid(s, t)"
   ]
  },
  {
   "cell_type": "code",
   "execution_count": null,
   "metadata": {},
   "outputs": [],
   "source": [
    "iflag = -1\n",
    "eps = 1e-12\n",
    "K = N / 2 / np.max(np.abs(s))\n",
    "fcn = 1 / 2 * np.sqrt(N / lam / z)  # f_extend\n",
    "ss = fcn / np.max(np.abs(s))\n",
    "zc = N * pitch**2 / lam\n",
    "if z < zc:\n",
    "    fxn = s\n",
    "else:\n",
    "    fxn = s * (ss - 0.0)\n",
    "H = np.exp(1j * k * (z * np.sqrt(1 - (fxn * lam)**2)))\n",
    "\n",
    "c = pupil[N//2, :] + 1j * 0\n",
    "t_asmNUFT = finufft.nufft1d3(x / np.max(np.abs(x)) * np.pi, c, fxn * K, isign=iflag, eps=eps)\n",
    "t_3 = finufft.nufft1d3(x / (np.max(np.abs(x))) * np.pi, H * t_asmNUFT, fxn * K, isign=-iflag, eps=eps)\n",
    "\n",
    "t_3 = t_3 / np.max(np.abs(t_3))\n",
    "t_3 = t_3[N//2 - N//4 + 1 : N // 2 + N // 4 + 1]\n",
    "phase_asm_ex = np.angle(t_3)\n",
    "amplitude_asm_ex = np.abs(t_3)\n",
    "plt.plot(x[N//2 - N//4 + 1 : N // 2 + N // 4 + 1], amplitude_asm_ex)"
   ]
  },
  {
   "cell_type": "markdown",
   "metadata": {},
   "source": [
    "## BEASM 2D"
   ]
  },
  {
   "cell_type": "code",
   "execution_count": null,
   "metadata": {},
   "outputs": [],
   "source": [
    "x_ = xx.flatten()\n",
    "y_ = yy.flatten()\n",
    "s_ = ss.flatten()\n",
    "t_ = tt.flatten()\n",
    "\n",
    "iflag = -1\n",
    "eps = 1e-12\n",
    "K1 = N / 2 / np.max(np.abs(s_))\n",
    "K2 = N / 2 / np.max(np.abs(t_))\n",
    "fcn = 1 / 2 * np.sqrt(N / lam / z)  # f_extend\n",
    "ss_ = fcn / np.max(np.abs(s_))\n",
    "tt_ = fcn / np.max(np.abs(t_))\n",
    "zc = N * pitch**2 / lam\n",
    "if z < zc:\n",
    "    fxn = s_\n",
    "    fyn = t_\n",
    "else:\n",
    "    fxn = s_ * (ss_ - 0.0)\n",
    "    fyn = t_ * (tt_ - 0.0)\n",
    "H = np.exp(1j * k * (z * np.sqrt(1 - (fxn * lam)**2 - (fyn * lam)**2)))\n",
    "\n",
    "t_asmNUFT = finufft.nufft2d3(x_ / np.max(np.abs(x_)) * np.pi, y_ / np.max(np.abs(y_)) * np.pi, E0.flatten(), fxn * K1, fyn * K2, isign=iflag, eps=eps)\n",
    "t_3 = finufft.nufft2d3(x_ / (np.max(np.abs(x_))) * np.pi, y_ / np.max(np.abs(y_)) * np.pi, H * t_asmNUFT, fxn * K1, fyn * K2, isign=-iflag, eps=eps).reshape(N, N)\n",
    "\n",
    "t_3 = t_3 / np.max(np.abs(t_3))\n",
    "# t_3 = t_3[N//2 - N//4 + 1 : N // 2 + N // 4 + 1]\n",
    "# phase_asm_ex = np.angle(t_3)\n",
    "amplitude_asm_ex = np.abs(t_3)\n",
    "plt.imshow(amplitude_asm_ex)"
   ]
  },
  {
   "cell_type": "code",
   "execution_count": null,
   "metadata": {},
   "outputs": [],
   "source": []
  }
 ],
 "metadata": {
  "kernelspec": {
   "display_name": "Python 3.9.15 ('sampling')",
   "language": "python",
   "name": "python3"
  },
  "language_info": {
   "codemirror_mode": {
    "name": "ipython",
    "version": 3
   },
   "file_extension": ".py",
   "mimetype": "text/x-python",
   "name": "python",
   "nbconvert_exporter": "python",
   "pygments_lexer": "ipython3",
   "version": "3.9.15"
  },
  "vscode": {
   "interpreter": {
    "hash": "ce3fd5b23fc1b6f25a6e4103d32c12cb7db6b7c0fb9589c67f0ee96b93e69753"
   }
  }
 },
 "nbformat": 4,
 "nbformat_minor": 4
}
